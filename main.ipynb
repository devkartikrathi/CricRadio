{
 "cells": [
  {
   "cell_type": "markdown",
   "metadata": {},
   "source": [
    "# Loading Dependencies"
   ]
  },
  {
   "cell_type": "code",
   "execution_count": 1,
   "metadata": {},
   "outputs": [],
   "source": [
    "import pandas as pd\n",
    "import matplotlib.pyplot as plt\n",
    "import seaborn as sns"
   ]
  },
  {
   "cell_type": "markdown",
   "metadata": {},
   "source": [
    "# Load the Excel file"
   ]
  },
  {
   "cell_type": "code",
   "execution_count": 2,
   "metadata": {},
   "outputs": [],
   "source": [
    "file_path = 'path_to_your_excel_file.xlsx'\n",
    "df = pd.read_excel(file_path)"
   ]
  },
  {
   "cell_type": "markdown",
   "metadata": {},
   "source": [
    "# Analysing Data"
   ]
  },
  {
   "cell_type": "code",
   "execution_count": 9,
   "metadata": {},
   "outputs": [
    {
     "data": {
      "text/html": [
       "<div>\n",
       "<style scoped>\n",
       "    .dataframe tbody tr th:only-of-type {\n",
       "        vertical-align: middle;\n",
       "    }\n",
       "\n",
       "    .dataframe tbody tr th {\n",
       "        vertical-align: top;\n",
       "    }\n",
       "\n",
       "    .dataframe thead th {\n",
       "        text-align: right;\n",
       "    }\n",
       "</style>\n",
       "<table border=\"1\" class=\"dataframe\">\n",
       "  <thead>\n",
       "    <tr style=\"text-align: right;\">\n",
       "      <th></th>\n",
       "      <th>Match No.</th>\n",
       "      <th>Date</th>\n",
       "      <th>Time (IST)</th>\n",
       "      <th>Team A</th>\n",
       "      <th>Team B</th>\n",
       "      <th>Location</th>\n",
       "      <th>Time Zone Diff for Opposition</th>\n",
       "      <th>Gender</th>\n",
       "      <th>League/Event</th>\n",
       "      <th>Rivalry</th>\n",
       "      <th>Series Type</th>\n",
       "      <th>No. of Teams</th>\n",
       "      <th>Match Type</th>\n",
       "      <th>Match Category</th>\n",
       "      <th>Finish Time (IST)</th>\n",
       "    </tr>\n",
       "  </thead>\n",
       "  <tbody>\n",
       "    <tr>\n",
       "      <th>0</th>\n",
       "      <td>1</td>\n",
       "      <td>2024-08-15 00:00:00</td>\n",
       "      <td>14:00:00</td>\n",
       "      <td>India</td>\n",
       "      <td>Pakistan</td>\n",
       "      <td>India</td>\n",
       "      <td>IST</td>\n",
       "      <td>Men</td>\n",
       "      <td>World Cup</td>\n",
       "      <td>India vs Pakistan</td>\n",
       "      <td>World Cup</td>\n",
       "      <td>10.0</td>\n",
       "      <td>ODI</td>\n",
       "      <td>International</td>\n",
       "      <td>22:00:00</td>\n",
       "    </tr>\n",
       "    <tr>\n",
       "      <th>1</th>\n",
       "      <td>8</td>\n",
       "      <td>2024-08-15 00:00:00</td>\n",
       "      <td>14:00:00</td>\n",
       "      <td>India</td>\n",
       "      <td>Pakistan</td>\n",
       "      <td>India</td>\n",
       "      <td>IST</td>\n",
       "      <td>Men</td>\n",
       "      <td>World Cup</td>\n",
       "      <td>India vs Pakistan</td>\n",
       "      <td>World Cup</td>\n",
       "      <td>10.0</td>\n",
       "      <td>T20I</td>\n",
       "      <td>International</td>\n",
       "      <td>18:00:00</td>\n",
       "    </tr>\n",
       "    <tr>\n",
       "      <th>2</th>\n",
       "      <td>15</td>\n",
       "      <td>2024-08-15 00:00:00</td>\n",
       "      <td>18:00:00</td>\n",
       "      <td>West Indies</td>\n",
       "      <td>England</td>\n",
       "      <td>West Indies</td>\n",
       "      <td>AST (IST-9.5)</td>\n",
       "      <td>Men</td>\n",
       "      <td>ENG tour of WI</td>\n",
       "      <td>NaN</td>\n",
       "      <td>Tri-Series</td>\n",
       "      <td>3.0</td>\n",
       "      <td>T20I</td>\n",
       "      <td>International</td>\n",
       "      <td>22:00:00</td>\n",
       "    </tr>\n",
       "    <tr>\n",
       "      <th>3</th>\n",
       "      <td>22</td>\n",
       "      <td>2024-08-15 00:00:00</td>\n",
       "      <td>14:00:00</td>\n",
       "      <td>Sri Lanka</td>\n",
       "      <td>India</td>\n",
       "      <td>Sri Lanka</td>\n",
       "      <td>SLST (IST-0.5)</td>\n",
       "      <td>Men</td>\n",
       "      <td>Asia Cup</td>\n",
       "      <td>NaN</td>\n",
       "      <td>4-team Series</td>\n",
       "      <td>4.0</td>\n",
       "      <td>ODI</td>\n",
       "      <td>International</td>\n",
       "      <td>22:00:00</td>\n",
       "    </tr>\n",
       "    <tr>\n",
       "      <th>4</th>\n",
       "      <td>29</td>\n",
       "      <td>2024-08-15 00:00:00</td>\n",
       "      <td>14:00:00</td>\n",
       "      <td>England</td>\n",
       "      <td>Pakistan</td>\n",
       "      <td>England</td>\n",
       "      <td>BST (IST-4.5)</td>\n",
       "      <td>Men</td>\n",
       "      <td>World Cup</td>\n",
       "      <td>NaN</td>\n",
       "      <td>World Cup</td>\n",
       "      <td>10.0</td>\n",
       "      <td>T20I</td>\n",
       "      <td>International</td>\n",
       "      <td>18:00:00</td>\n",
       "    </tr>\n",
       "  </tbody>\n",
       "</table>\n",
       "</div>"
      ],
      "text/plain": [
       "  Match No.                 Date Time (IST)       Team A    Team B  \\\n",
       "0         1  2024-08-15 00:00:00   14:00:00        India  Pakistan   \n",
       "1         8  2024-08-15 00:00:00   14:00:00        India  Pakistan   \n",
       "2        15  2024-08-15 00:00:00   18:00:00  West Indies   England   \n",
       "3        22  2024-08-15 00:00:00   14:00:00    Sri Lanka     India   \n",
       "4        29  2024-08-15 00:00:00   14:00:00      England  Pakistan   \n",
       "\n",
       "      Location Time Zone Diff for Opposition Gender    League/Event  \\\n",
       "0        India                           IST    Men       World Cup   \n",
       "1        India                           IST    Men       World Cup   \n",
       "2  West Indies                 AST (IST-9.5)    Men  ENG tour of WI   \n",
       "3    Sri Lanka                SLST (IST-0.5)    Men        Asia Cup   \n",
       "4      England                 BST (IST-4.5)    Men       World Cup   \n",
       "\n",
       "             Rivalry    Series Type  No. of Teams Match Type Match Category  \\\n",
       "0  India vs Pakistan      World Cup          10.0        ODI  International   \n",
       "1  India vs Pakistan      World Cup          10.0       T20I  International   \n",
       "2                NaN     Tri-Series           3.0       T20I  International   \n",
       "3                NaN  4-team Series           4.0        ODI  International   \n",
       "4                NaN      World Cup          10.0       T20I  International   \n",
       "\n",
       "  Finish Time (IST)  \n",
       "0          22:00:00  \n",
       "1          18:00:00  \n",
       "2          22:00:00  \n",
       "3          22:00:00  \n",
       "4          18:00:00  "
      ]
     },
     "execution_count": 9,
     "metadata": {},
     "output_type": "execute_result"
    }
   ],
   "source": [
    "df.head()"
   ]
  },
  {
   "cell_type": "code",
   "execution_count": 6,
   "metadata": {},
   "outputs": [
    {
     "name": "stdout",
     "output_type": "stream",
     "text": [
      "<class 'pandas.core.frame.DataFrame'>\n",
      "RangeIndex: 124 entries, 0 to 123\n",
      "Data columns (total 15 columns):\n",
      " #   Column                         Non-Null Count  Dtype  \n",
      "---  ------                         --------------  -----  \n",
      " 0   Match No.                      115 non-null    object \n",
      " 1   Date                           114 non-null    object \n",
      " 2   Time (IST)                     109 non-null    object \n",
      " 3   Team A                         105 non-null    object \n",
      " 4   Team B                         102 non-null    object \n",
      " 5   Location                       102 non-null    object \n",
      " 6   Time Zone Diff for Opposition  102 non-null    object \n",
      " 7   Gender                         102 non-null    object \n",
      " 8   League/Event                   101 non-null    object \n",
      " 9   Rivalry                        13 non-null     object \n",
      " 10  Series Type                    101 non-null    object \n",
      " 11  No. of Teams                   100 non-null    float64\n",
      " 12  Match Type                     100 non-null    object \n",
      " 13  Match Category                 100 non-null    object \n",
      " 14  Finish Time (IST)              100 non-null    object \n",
      "dtypes: float64(1), object(14)\n",
      "memory usage: 14.7+ KB\n"
     ]
    }
   ],
   "source": [
    "df.info()"
   ]
  },
  {
   "cell_type": "code",
   "execution_count": 7,
   "metadata": {},
   "outputs": [
    {
     "data": {
      "text/plain": [
       "Match No.                          9\n",
       "Date                              10\n",
       "Time (IST)                        15\n",
       "Team A                            19\n",
       "Team B                            22\n",
       "Location                          22\n",
       "Time Zone Diff for Opposition     22\n",
       "Gender                            22\n",
       "League/Event                      23\n",
       "Rivalry                          111\n",
       "Series Type                       23\n",
       "No. of Teams                      24\n",
       "Match Type                        24\n",
       "Match Category                    24\n",
       "Finish Time (IST)                 24\n",
       "dtype: int64"
      ]
     },
     "execution_count": 7,
     "metadata": {},
     "output_type": "execute_result"
    }
   ],
   "source": [
    "df.isna().sum()"
   ]
  },
  {
   "cell_type": "code",
   "execution_count": 10,
   "metadata": {},
   "outputs": [
    {
     "name": "stdout",
     "output_type": "stream",
     "text": [
      "{'Match No.': array([1, 8, 15, 22, 29, 36, 43, 50, 57, 64, 71, 78, 85, 92, 2, 9, 16, 23,\n",
      "       30, 37, 44, 51, 58, 65, 72, 79, 86, 93, 3, 10, 17, 24, 31, 38, 45,\n",
      "       52, 59, 66, 73, 80, 87, 4, 11, 18, 25, 32, 39, 46, 53, 60, 67, 74,\n",
      "       81, 88, 5, 12, 19, 26, 33, 40, 47, 54, 61, 68, 75, 82, 89, 6, 13,\n",
      "       20, 27, 34, 41, 48, 55, 62, 69, 76, 83, 90, 7, 14, 21, 28, 35, 42,\n",
      "       49, 56, 63, 70, 77, 84, 91, 94, 95, 96, 97, 98, 99, 100, nan,\n",
      "       'match Card Display', 'Match Card Removal', 'Parameters', 'Teams',\n",
      "       'Time(IST)(Start Time)', 'Gender', 'Format', 'Is League',\n",
      "       'No of Teams in Series', 'Match Category', 'Status',\n",
      "       'Special Match', 'Special Cases to be Handled', 'World cup',\n",
      "       'Rivalry'], dtype=object), 'Date': array([datetime.datetime(2024, 8, 15, 0, 0),\n",
      "       datetime.datetime(2024, 8, 16, 0, 0),\n",
      "       datetime.datetime(2024, 8, 17, 0, 0),\n",
      "       datetime.datetime(2024, 8, 18, 0, 0),\n",
      "       datetime.datetime(2024, 8, 19, 0, 0),\n",
      "       datetime.datetime(2024, 8, 20, 0, 0),\n",
      "       datetime.datetime(2024, 8, 21, 0, 0), nan,\n",
      "       '24 hours before match start time',\n",
      "       'show all Live and Upcoming matches and keep removing Completed matches if more than 3',\n",
      "       'Outcomes According to weightage', 'India', '1700-2030 hrs',\n",
      "       'Male', 'T20', 'Yes ', 'Higher number will have more weeightage',\n",
      "       'International', 'Live', 'Final', 'According to formats',\n",
      "       'Ind vs Pak'], dtype=object), 'Time (IST)': array([datetime.time(14, 0), datetime.time(18, 0), datetime.time(4, 30),\n",
      "       datetime.time(15, 0), datetime.time(16, 0), datetime.time(19, 0),\n",
      "       datetime.time(19, 30), datetime.time(21, 30), datetime.time(17, 0),\n",
      "       datetime.time(20, 0), datetime.time(5, 30), datetime.time(10, 0),\n",
      "       datetime.time(13, 0), datetime.time(12, 30), datetime.time(15, 15),\n",
      "       nan, 'England', '1200-1700 hrs', 'Female', 'One Day', 'No',\n",
      "       'Domestic', 'Upcoming', 'Semi final ', 'Ashes- Eng vs Aus'],\n",
      "      dtype=object), 'Team A': array(['India', 'West Indies', 'Sri Lanka', 'England', 'South Africa',\n",
      "       'St Kitts & Nevis', 'Lucknow Super Giants', 'Pakistan Women',\n",
      "       'North West', 'Netherlands Women', 'Sydney Sixers', 'Australia',\n",
      "       'Pakistan', 'Kolkata Knight Riders', 'Mumbai Indians',\n",
      "       'Punjab Kings', 'Boland', 'KwaZulu-Natal Inland', 'Ireland',\n",
      "       'Rajasthan Royals', 'Delhi Capitals', 'MI Cape Town', 'Nepal',\n",
      "       'Afghanistan', 'Royal Challengers Bengaluru',\n",
      "       'Sunrisers Hyderabad', 'Ireland Women', 'Bangladesh',\n",
      "       'Gujarat Titans', 'South Africa Women', 'New Zealand', 'Oman',\n",
      "       'Dolphins', 'Chennai Super Kings', 'Warriors', 'Titans',\n",
      "       'United States of America Women', 'Dindigul Dragons',\n",
      "       'Chepauk Super Gillies', 'Nellai Royal Kings',\n",
      "       'Trichy Grand Cholas', 'Salem Spartans', 'Madurai Panthers', nan,\n",
      "       '2030-2300 hrs', 'Test', 'Completed', 'Quarter'], dtype=object), 'Team B': array(['Pakistan', 'England', 'India', 'Australia', 'West Indies',\n",
      "       'Jamaica Tallawahs', 'Sri Lanka', 'Gujarat Titans',\n",
      "       'West Indies Women', 'Warriors', 'Sri Lanka Women',\n",
      "       'Melbourne Stars', 'Rajasthan Royals', 'Delhi Capitals',\n",
      "       'Mumbai Indians', 'Western Province', 'Lions',\n",
      "       'Chennai Super Kings', 'Netherlands', 'South Africa', 'Bangladesh',\n",
      "       'Thailand', 'Royal Challengers Bengaluru',\n",
      "       'Royal Challengers Bangalore', 'New Zealand',\n",
      "       'Sunrisers Hyderabad', 'Paarl Royals', 'Scotland', 'UAE',\n",
      "       'Thailand Women', 'Zimbabwe', 'Punjab Kings', 'Afghanistan',\n",
      "       'Kolkata Knight Riders', 'Lucknow Super Giants', 'Namibia',\n",
      "       'KwaZulu-Natal Inland', 'Zimbabwe Women', 'Chepauk Super Gillies',\n",
      "       'Trichy Grand Cholas', 'Madurai Panthers', 'Dindigul Dragons',\n",
      "       'Salem Spartans', nan, '0900-1200'], dtype=object), 'Location': array(['India', 'West Indies', 'Sri Lanka', 'England', 'Australia',\n",
      "       'South Africa', 'Pakistan', 'Ireland', 'Bangladesh', 'New Zealand',\n",
      "       'Scotland', 'Nepal', 'United Arab Emirates', 'Qatar', nan,\n",
      "       '2300-0100 hrs'], dtype=object), 'Time Zone Diff for Opposition': array(['IST', 'AST (IST-9.5)', 'SLST (IST-0.5)', 'BST (IST-4.5)',\n",
      "       'AEST (IST+4.5)', 'SAST (IST-3.5)', 'PST (IST-0.5)',\n",
      "       'ACST (IST+4)', 'IST-4.5', 'BST (IST-0.5)', 'IST-4.6',\n",
      "       'NZST (IST+7.5)', 'AWST (IST+2.5)', 'NST (IST-0.5)',\n",
      "       'GST (IST-1.5)', 'IST-4.7', 'QAT(IST-2.30)', nan, 'Newzealand',\n",
      "       '0100-0600 hrs'], dtype=object), 'Gender': array(['Men', 'Women', nan, 'Srilanka', '0600-0900 hrs'], dtype=object), 'League/Event': array(['World Cup', 'ENG tour of WI', 'Asia Cup', 'The Ashes', 'CPL',\n",
      "       'SA tour of SL', 'IPL', 'AUS tour of IND', 'WI tour of PAK',\n",
      "       'SA20', \"ICC Women's T20 World Cup Qualifier Warm-up Matches\",\n",
      "       'BBL', 'PAK tour of SA', 'SL tour of PAK', 'European League',\n",
      "       'ENG tour of SA', 'IND tour of BAN', 'IND tour of AUS',\n",
      "       'THAI tour of IRE', 'PAK tour of NZ', 'Tri-Series',\n",
      "       'UAE tour of Nepal', 'AFG tour of PAK', 'IND tour of NZ',\n",
      "       'ZIM tour of BAN', 'AFG tour of SA', 'SA tour of NZ',\n",
      "       'SL tour of ENG', 'SA tour of AUS', 'World Cup Final',\n",
      "       'SL tour of SA', 'NAM tour of QAT', 'NZ tour of AUS',\n",
      "       'The Ashes Final', 'AUS tour of BAN', 'TNPL', nan, 'West Indies'],\n",
      "      dtype=object), 'Rivalry': array(['India vs Pakistan', nan, 'England vs Australia', 'Afghanistan'],\n",
      "      dtype=object), 'Series Type': array(['World Cup', 'Tri-Series', '4-team Series', '5 Test Series',\n",
      "       'League', 'Bilateral', nan, 'Others'], dtype=object), 'No. of Teams': array([10.,  3.,  4.,  2.,  6.,  8., 12.,  9., nan]), 'Match Type': array(['ODI', 'T20I', 'Test', nan], dtype=object), 'Match Category': array(['International', 'Domestic', nan], dtype=object), 'Finish Time (IST)': array([datetime.time(22, 0), datetime.time(18, 0), datetime.time(21, 30),\n",
      "       datetime.time(8, 30), datetime.time(19, 0), datetime.time(19, 30),\n",
      "       datetime.time(23, 0), datetime.time(23, 30), datetime.time(1, 30),\n",
      "       datetime.time(21, 0), datetime.time(0, 0), datetime.time(12, 30),\n",
      "       datetime.time(2, 0), datetime.time(3, 0), datetime.time(17, 0),\n",
      "       datetime.time(4, 0), datetime.time(13, 0), datetime.time(15, 30),\n",
      "       datetime.time(20, 30), datetime.time(19, 15), nan], dtype=object)}\n"
     ]
    }
   ],
   "source": [
    "unique_values = {}\n",
    "for column in df.columns:\n",
    "    unique_values[column] = df[column].unique()\n",
    "\n",
    "print(unique_values)"
   ]
  },
  {
   "cell_type": "markdown",
   "metadata": {},
   "source": [
    "# Setting Priority Score - According to docs"
   ]
  },
  {
   "cell_type": "code",
   "execution_count": 11,
   "metadata": {},
   "outputs": [],
   "source": [
    "priority_scores = {\n",
    "    'Series Type': {'World Cup': 1, 'Other': 2},\n",
    "    'Rivalry': {'Ind vs Pak': 1, 'Ashes': 2, 'Other': 3},\n",
    "    'Status': {'Live': 1, 'Upcoming': 2, 'Completed': 3, 'Special Match': 4, 'Final': 5, 'Semi-final': 6, 'Quarter-final': 7},\n",
    "    'Teams': {'India': 1, 'England': 2, 'Australia': 3, 'South Africa': 4, 'Pakistan': 5, 'New Zealand': 6, 'Sri Lanka': 7, 'West Indies': 8, 'Afghanistan': 9, 'Others': 10},\n",
    "    'Time (IST)': {('1700', '2030'): 1, ('1200', '1700'): 2, ('2030', '2300'): 3, ('0900', '1200'): 4, ('2300', '0100'): 5, ('0100', '0600'): 6, ('0600', '0900'): 7},\n",
    "    'Match Category': {'International': 1, 'Domestic': 2},\n",
    "    'Format': {'T20': 1, 'One Day': 2, 'Test': 3},\n",
    "    'Is League': {'Yes': 1, 'No': 2},\n",
    "    'Gender': {'Male': 1, 'Female': 2}\n",
    "}"
   ]
  },
  {
   "cell_type": "markdown",
   "metadata": {},
   "source": []
  },
  {
   "cell_type": "code",
   "execution_count": null,
   "metadata": {},
   "outputs": [],
   "source": []
  }
 ],
 "metadata": {
  "kernelspec": {
   "display_name": "maxvenv11",
   "language": "python",
   "name": "python3"
  },
  "language_info": {
   "codemirror_mode": {
    "name": "ipython",
    "version": 3
   },
   "file_extension": ".py",
   "mimetype": "text/x-python",
   "name": "python",
   "nbconvert_exporter": "python",
   "pygments_lexer": "ipython3",
   "version": "3.11.2"
  }
 },
 "nbformat": 4,
 "nbformat_minor": 2
}
